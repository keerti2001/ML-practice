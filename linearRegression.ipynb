{
 "cells": [
  {
   "cell_type": "markdown",
   "metadata": {},
   "source": [
    "#Supervised Learning"
   ]
  },
  {
   "cell_type": "code",
   "execution_count": 20,
   "metadata": {},
   "outputs": [
    {
     "name": "stdout",
     "output_type": "stream",
     "text": [
      "[[1400]\n",
      " [1600]\n",
      " [1700]\n",
      " [1875]\n",
      " [1100]\n",
      " [1550]\n",
      " [2350]\n",
      " [2450]\n",
      " [1425]\n",
      " [1700]]\n"
     ]
    }
   ],
   "source": [
    "import matplotlib.pyplot as plt\n",
    "import numpy as np\n",
    "\n",
    "from sklearn import datasets,linear_model\n",
    "\n",
    "house_price=[245,312,279,308,199,219,405,324,319,255]\n",
    "size = [1400,1600,1700,1875,1100,1550,2350,2450,1425,1700]\n",
    "size2 = np.array(size).reshape((-1,1))\n",
    "print(size2)"
   ]
  },
  {
   "cell_type": "code",
   "execution_count": 4,
   "metadata": {},
   "outputs": [
    {
     "name": "stdout",
     "output_type": "stream",
     "text": [
      " coefficient \n",
      " [0.10976774]\n",
      " intercept \n",
      " 98.24832962138083\n"
     ]
    }
   ],
   "source": [
    "#by using fit module inn linear regression, user can fit the data frequently and quickly\n",
    "regr = linear_model.LinearRegression()\n",
    "regr.fit(size2,house_price)\n",
    "print(\" coefficient \\n\",regr.coef_)\n",
    "print(\" intercept \\n\",regr.intercept_)"
   ]
  },
  {
   "cell_type": "code",
   "execution_count": 7,
   "metadata": {},
   "outputs": [
    {
     "name": "stdout",
     "output_type": "stream",
     "text": [
      "[251.92316258]\n",
      "[251.92316258]\n"
     ]
    }
   ],
   "source": [
    "size_new=1400\n",
    "price = (size_new*regr.coef_)+regr.intercept_\n",
    "print(price)\n",
    "print(regr.predict([[size_new]]))"
   ]
  },
  {
   "cell_type": "code",
   "execution_count": 22,
   "metadata": {},
   "outputs": [
    {
     "data": {
      "image/png": "[encoded data removed]",
      "text/plain": [
       "<Figure size 432x288 with 1 Axes>"
      ]
     },
     "metadata": {
      "needs_background": "light"
     },
     "output_type": "display_data"
    }
   ],
   "source": [
    "def graph(formula,x_range):\n",
    "    x=np.array(x_range)\n",
    "    y=eval(formula)\n",
    "    plt.plot(x,y)\n",
    "graph('regr.coef_*x + regr.intercept_ ',range(1000,2700))\n",
    "plt.scatter(size,house_price,color='black')\n",
    "plt.ylabel('house price')\n",
    "plt.xlabel('size of house')\n",
    "plt.show()"
   ]
  },
  {
   "cell_type": "code",
   "execution_count": null,
   "metadata": {},
   "outputs": [],
   "source": []
  }
 ],
 "metadata": {
  "kernelspec": {
   "display_name": "Python 3",
   "language": "python",
   "name": "python3"
  },
  "language_info": {
   "codemirror_mode": {
    "name": "ipython",
    "version": 3
   },
   "file_extension": ".py",
   "mimetype": "text/x-python",
   "name": "python",
   "nbconvert_exporter": "python",
   "pygments_lexer": "ipython3",
   "version": "3.7.4"
  }
 },
 "nbformat": 4,
 "nbformat_minor": 2
}
